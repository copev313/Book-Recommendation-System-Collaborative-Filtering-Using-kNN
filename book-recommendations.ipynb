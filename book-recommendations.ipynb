{
  "nbformat": 4,
  "nbformat_minor": 0,
  "metadata": {
    "colab": {
      "name": "Book-Recommendation-System.ipynb",
      "provenance": [],
      "collapsed_sections": [],
      "toc_visible": true,
      "authorship_tag": "ABX9TyPHbDSrk+juTqut43lK3kWe",
      "include_colab_link": true
    },
    "kernelspec": {
      "name": "python3",
      "display_name": "Python 3"
    },
    "language_info": {
      "name": "python"
    }
  },
  "cells": [
    {
      "cell_type": "markdown",
      "metadata": {
        "id": "view-in-github",
        "colab_type": "text"
      },
      "source": [
        "<a href=\"https://colab.research.google.com/github/copev313/Book-Recommendation-System-Collaborative-Filtering-Using-kNN/blob/main/book-recommendations.ipynb\" target=\"_parent\"><img src=\"https://colab.research.google.com/assets/colab-badge.svg\" alt=\"Open In Colab\"/></a>"
      ]
    },
    {
      "cell_type": "markdown",
      "metadata": {
        "id": "qrWL8eOmu7Nf"
      },
      "source": [
        "# Building a Book Recommendation System with Machine Learning\n",
        "\n",
        "In this project we will create a Machine Learning model to be used in a book recommendation system. "
      ]
    },
    {
      "cell_type": "markdown",
      "metadata": {
        "id": "eSe8eIjVvp5j"
      },
      "source": [
        "## Introduction\n",
        "\n",
        "We'll begin by importing our libraries and loading our data into a `pandas` DataFrame."
      ]
    },
    {
      "cell_type": "code",
      "metadata": {
        "id": "KHC6Q2bSxSfO"
      },
      "source": [
        "# Import Libraries\n",
        "import pandas as pd\n",
        "import numpy as np\n",
        "import matplotlib.pyplot as plt\n"
      ],
      "execution_count": 99,
      "outputs": []
    },
    {
      "cell_type": "code",
      "metadata": {
        "id": "9oy_NInjyTYq"
      },
      "source": [
        "# Additional Configuration\n",
        "pd.set_option('display.max_columns', None)\n",
        "%matplotlib inline"
      ],
      "execution_count": 100,
      "outputs": []
    },
    {
      "cell_type": "code",
      "metadata": {
        "colab": {
          "base_uri": "https://localhost:8080/"
        },
        "id": "guh87Xznuz1q",
        "outputId": "df07a637-7033-4586-847f-20a475b3db45"
      },
      "source": [
        "\n",
        "# Load our book data:\n",
        "book_data = pd.read_csv('BX-Books.csv',\n",
        "                        sep=';',\n",
        "                        error_bad_lines=False,\n",
        "                        encoding='latin-1')\n",
        "book_data.columns = ['ISBN', 'bookTitle', 'bookAuthor', 'yearOfPublication',\n",
        "                     'publisher', 'imageUrlS', 'imageUrlM', 'imageUrlL']\n",
        "\n",
        "print(book_data.head())\n"
      ],
      "execution_count": 101,
      "outputs": [
        {
          "output_type": "stream",
          "text": [
            "b'Skipping line 6452: expected 8 fields, saw 9\\nSkipping line 43667: expected 8 fields, saw 10\\nSkipping line 51751: expected 8 fields, saw 9\\n'\n",
            "b'Skipping line 92038: expected 8 fields, saw 9\\nSkipping line 104319: expected 8 fields, saw 9\\nSkipping line 121768: expected 8 fields, saw 9\\n'\n",
            "b'Skipping line 144058: expected 8 fields, saw 9\\nSkipping line 150789: expected 8 fields, saw 9\\nSkipping line 157128: expected 8 fields, saw 9\\nSkipping line 180189: expected 8 fields, saw 9\\nSkipping line 185738: expected 8 fields, saw 9\\n'\n",
            "b'Skipping line 209388: expected 8 fields, saw 9\\nSkipping line 220626: expected 8 fields, saw 9\\nSkipping line 227933: expected 8 fields, saw 11\\nSkipping line 228957: expected 8 fields, saw 10\\nSkipping line 245933: expected 8 fields, saw 9\\nSkipping line 251296: expected 8 fields, saw 9\\nSkipping line 259941: expected 8 fields, saw 9\\nSkipping line 261529: expected 8 fields, saw 9\\n'\n"
          ],
          "name": "stderr"
        },
        {
          "output_type": "stream",
          "text": [
            "         ISBN                                          bookTitle  \\\n",
            "0  0195153448                                Classical Mythology   \n",
            "1  0002005018                                       Clara Callan   \n",
            "2  0060973129                               Decision in Normandy   \n",
            "3  0374157065  Flu: The Story of the Great Influenza Pandemic...   \n",
            "4  0393045218                             The Mummies of Urumchi   \n",
            "\n",
            "             bookAuthor yearOfPublication                   publisher  \\\n",
            "0    Mark P. O. Morford              2002     Oxford University Press   \n",
            "1  Richard Bruce Wright              2001       HarperFlamingo Canada   \n",
            "2          Carlo D'Este              1991             HarperPerennial   \n",
            "3      Gina Bari Kolata              1999        Farrar Straus Giroux   \n",
            "4       E. J. W. Barber              1999  W. W. Norton &amp; Company   \n",
            "\n",
            "                                           imageUrlS  \\\n",
            "0  http://images.amazon.com/images/P/0195153448.0...   \n",
            "1  http://images.amazon.com/images/P/0002005018.0...   \n",
            "2  http://images.amazon.com/images/P/0060973129.0...   \n",
            "3  http://images.amazon.com/images/P/0374157065.0...   \n",
            "4  http://images.amazon.com/images/P/0393045218.0...   \n",
            "\n",
            "                                           imageUrlM  \\\n",
            "0  http://images.amazon.com/images/P/0195153448.0...   \n",
            "1  http://images.amazon.com/images/P/0002005018.0...   \n",
            "2  http://images.amazon.com/images/P/0060973129.0...   \n",
            "3  http://images.amazon.com/images/P/0374157065.0...   \n",
            "4  http://images.amazon.com/images/P/0393045218.0...   \n",
            "\n",
            "                                           imageUrlL  \n",
            "0  http://images.amazon.com/images/P/0195153448.0...  \n",
            "1  http://images.amazon.com/images/P/0002005018.0...  \n",
            "2  http://images.amazon.com/images/P/0060973129.0...  \n",
            "3  http://images.amazon.com/images/P/0374157065.0...  \n",
            "4  http://images.amazon.com/images/P/0393045218.0...  \n"
          ],
          "name": "stdout"
        }
      ]
    },
    {
      "cell_type": "code",
      "metadata": {
        "colab": {
          "base_uri": "https://localhost:8080/"
        },
        "id": "JlxiqcRvxqLN",
        "outputId": "56e342ac-18e8-47a4-b9e9-5549b0c936a6"
      },
      "source": [
        "# Load our user data:\n",
        "user_data = pd.read_csv('BX-Users.csv',\n",
        "                        sep=';',\n",
        "                        error_bad_lines=False,\n",
        "                        encoding='latin-1')\n",
        "user_data.columns = ['userID', 'Location', 'Age']\n",
        "\n",
        "print(user_data.head())\n"
      ],
      "execution_count": 102,
      "outputs": [
        {
          "output_type": "stream",
          "text": [
            "   userID                            Location    Age\n",
            "0       1                  nyc, new york, usa    nan\n",
            "1       2           stockton, california, usa 18.000\n",
            "2       3     moscow, yukon territory, russia    nan\n",
            "3       4           porto, v.n.gaia, portugal 17.000\n",
            "4       5  farnborough, hants, united kingdom    nan\n"
          ],
          "name": "stdout"
        }
      ]
    },
    {
      "cell_type": "code",
      "metadata": {
        "colab": {
          "base_uri": "https://localhost:8080/"
        },
        "id": "uuG_aYdkx8aU",
        "outputId": "7d627fd3-e988-4271-f05e-4b7838897623"
      },
      "source": [
        "# Load our ratings data:\n",
        "ratings_data = pd.read_csv('BX-Book-Ratings.csv',\n",
        "                        sep=';',\n",
        "                        error_bad_lines=False,\n",
        "                        encoding='latin-1')\n",
        "ratings_data.columns = ['userID', 'ISBN', 'bookRating']\n",
        "\n",
        "print(ratings_data.head())"
      ],
      "execution_count": 103,
      "outputs": [
        {
          "output_type": "stream",
          "text": [
            "   userID        ISBN  bookRating\n",
            "0  276725  034545104X           0\n",
            "1  276726  0155061224           5\n",
            "2  276727  0446520802           0\n",
            "3  276729  052165615X           3\n",
            "4  276729  0521795028           6\n"
          ],
          "name": "stdout"
        }
      ]
    },
    {
      "cell_type": "code",
      "metadata": {
        "colab": {
          "base_uri": "https://localhost:8080/"
        },
        "id": "VXCCLftIzh1D",
        "outputId": "76474aaf-f133-4014-f58b-08d4e02cf9de"
      },
      "source": [
        "print(ratings_data.shape)\n",
        "print(list(ratings_data.columns))"
      ],
      "execution_count": 104,
      "outputs": [
        {
          "output_type": "stream",
          "text": [
            "(1149780, 3)\n",
            "['userID', 'ISBN', 'bookRating']\n"
          ],
          "name": "stdout"
        }
      ]
    },
    {
      "cell_type": "markdown",
      "metadata": {
        "id": "PsGDex0uypKg"
      },
      "source": [
        "---\n",
        "\n",
        "Let's look at the distribution of the book ratings.\n"
      ]
    },
    {
      "cell_type": "code",
      "metadata": {
        "colab": {
          "base_uri": "https://localhost:8080/",
          "height": 334
        },
        "id": "YwbYWZd-y1tn",
        "outputId": "458cbf1b-b11d-4361-ac73-5a87119b643c"
      },
      "source": [
        "plt.rc('font', size=15)\n",
        "ratings_data['bookRating'].value_counts(sort=False).plot(kind='bar')\n",
        "\n",
        "plt.title('Book Rating Distributions\\n')\n",
        "plt.xlabel('Rating')\n",
        "plt.ylabel('Count')\n",
        "plt.show()"
      ],
      "execution_count": 105,
      "outputs": [
        {
          "output_type": "display_data",
          "data": {
            "image/png": "[encoded data removed]",
            "text/plain": [
              "<Figure size 432x288 with 1 Axes>"
            ]
          },
          "metadata": {
            "tags": [],
            "needs_background": "light"
          }
        }
      ]
    },
    {
      "cell_type": "code",
      "metadata": {
        "colab": {
          "base_uri": "https://localhost:8080/"
        },
        "id": "JkeKVu1RzpcA",
        "outputId": "b4de5d38-a6f9-478d-c358-19e18681da09"
      },
      "source": [
        "print(book_data.shape)\n",
        "print(list(book_data.columns))"
      ],
      "execution_count": 106,
      "outputs": [
        {
          "output_type": "stream",
          "text": [
            "(271360, 8)\n",
            "['ISBN', 'bookTitle', 'bookAuthor', 'yearOfPublication', 'publisher', 'imageUrlS', 'imageUrlM', 'imageUrlL']\n"
          ],
          "name": "stdout"
        }
      ]
    },
    {
      "cell_type": "code",
      "metadata": {
        "colab": {
          "base_uri": "https://localhost:8080/"
        },
        "id": "8hDfDf6Bzu_0",
        "outputId": "c25968c9-6dbc-4497-bba6-abc944a015b3"
      },
      "source": [
        "print(user_data.shape)\n",
        "print(list(user_data.columns))"
      ],
      "execution_count": 107,
      "outputs": [
        {
          "output_type": "stream",
          "text": [
            "(278858, 3)\n",
            "['userID', 'Location', 'Age']\n"
          ],
          "name": "stdout"
        }
      ]
    },
    {
      "cell_type": "markdown",
      "metadata": {
        "id": "Dih864iiz08L"
      },
      "source": [
        "---\n",
        "Now let's plot the age distribution of the users placing the reviews."
      ]
    },
    {
      "cell_type": "code",
      "metadata": {
        "colab": {
          "base_uri": "https://localhost:8080/",
          "height": 330
        },
        "id": "u9bNXmKFz_bA",
        "outputId": "b57184ff-9264-4956-812c-90983c0969a1"
      },
      "source": [
        "user_data['Age'].hist(bins=[0, 10, 20, 30, 40, 50, 100])\n",
        "plt.title('User Age Distributions\\n')\n",
        "plt.xlabel('Age')\n",
        "plt.ylabel('Count')\n",
        "plt.show()"
      ],
      "execution_count": 108,
      "outputs": [
        {
          "output_type": "display_data",
          "data": {
            "image/png": "[encoded data removed]",
            "text/plain": [
              "<Figure size 432x288 with 1 Axes>"
            ]
          },
          "metadata": {
            "tags": [],
            "needs_background": "light"
          }
        }
      ]
    },
    {
      "cell_type": "markdown",
      "metadata": {
        "id": "TBu9oujr0Ux2"
      },
      "source": [
        "---\n",
        "\n",
        "## Data Refinement\n",
        "\n",
        "We will remove users with less than 200 ratings, as well as books with less than 100 ratings to ensure statistical significance."
      ]
    },
    {
      "cell_type": "code",
      "metadata": {
        "id": "bvLsDUo30suY"
      },
      "source": [
        "# Get number of ratings for each user:\n",
        "user_counts = ratings_data['userID'].value_counts()\n",
        "\n",
        "# Filter ratings data:\n",
        "ratings_data = ratings_data[ratings_data['userID'].isin(\n",
        "    user_counts[user_counts >= 200].index\n",
        ")]\n"
      ],
      "execution_count": 109,
      "outputs": []
    },
    {
      "cell_type": "code",
      "metadata": {
        "id": "wXwdsai51hsz"
      },
      "source": [
        "# Get number of ratings for each book:\n",
        "bk_rating_counts = ratings_data['bookRating'].value_counts()\n",
        "\n",
        "# Filter ratings data again:\n",
        "ratings_data = ratings_data[ratings_data['bookRating'].isin(\n",
        "    bk_rating_counts[bk_rating_counts >= 100].index\n",
        ")]"
      ],
      "execution_count": 110,
      "outputs": []
    },
    {
      "cell_type": "markdown",
      "metadata": {
        "id": "Y7uPwZsB2K2e"
      },
      "source": [
        "---\n",
        "\n",
        "## Collaborative Filtering Using k-Nearest Neighbors (kNN)\n",
        "\n",
        "The machine learning algorithm we will be using is called k-Nearest-Neighbors (kNN). This method will find clusters of similar users based on common book ratings. It will make it's predictions by utilizing the mean rating of the top-k nearest neighbors.\n",
        "\n",
        "First, we will place our ratings into a matrix. This matrix will have one row for reach item, in our case a book, and it will have one column for each user.\n"
      ]
    },
    {
      "cell_type": "code",
      "metadata": {
        "colab": {
          "base_uri": "https://localhost:8080/"
        },
        "id": "jamHIVcH2dFx",
        "outputId": "30ea5fb7-4ff7-4726-f549-3ce0d02cc10a"
      },
      "source": [
        "# Merge our two DataFrame on the ISBN:\n",
        "books_ratings_combo = pd.merge(ratings_data, book_data, on='ISBN')\n",
        "\n",
        "# Create a list of columns to remove:\n",
        "columns = ['yearOfPublication', 'publisher', 'bookAuthor',\n",
        "           'imageUrlS', 'imageUrlM', 'imageUrlL']\n",
        "\n",
        "# Remove columns from combined DataFrame:\n",
        "books_ratings_combo = books_ratings_combo.drop(columns, axis=1)\n",
        "\n",
        "# Take a look:\n",
        "print(books_ratings_combo.head())\n"
      ],
      "execution_count": 111,
      "outputs": [
        {
          "output_type": "stream",
          "text": [
            "   userID        ISBN  bookRating  \\\n",
            "0  277427  002542730X          10   \n",
            "1    3363  002542730X           0   \n",
            "2   11676  002542730X           6   \n",
            "3   12538  002542730X          10   \n",
            "4   13552  002542730X           0   \n",
            "\n",
            "                                           bookTitle  \n",
            "0  Politically Correct Bedtime Stories: Modern Ta...  \n",
            "1  Politically Correct Bedtime Stories: Modern Ta...  \n",
            "2  Politically Correct Bedtime Stories: Modern Ta...  \n",
            "3  Politically Correct Bedtime Stories: Modern Ta...  \n",
            "4  Politically Correct Bedtime Stories: Modern Ta...  \n"
          ],
          "name": "stdout"
        }
      ]
    },
    {
      "cell_type": "markdown",
      "metadata": {
        "id": "zCiRI03T4oFP"
      },
      "source": [
        "---\n",
        "\n",
        "Time to group the books by title and to create a new column for total rating count.\n"
      ]
    },
    {
      "cell_type": "code",
      "metadata": {
        "colab": {
          "base_uri": "https://localhost:8080/"
        },
        "id": "IVIOFTpL4yR9",
        "outputId": "ea34ede4-f718-489b-b510-877c36caee15"
      },
      "source": [
        "books_ratings_combo = books_ratings_combo.dropna(axis=0, subset=['bookTitle'])\n",
        "\n",
        "# Group books by title and add the totalRatingCount:\n",
        "book_rating_count = (books_ratings_combo.groupby(\n",
        "                      by=['bookTitle'])['bookRating'].count().reset_index()\\\n",
        "                          .rename(\n",
        "                              columns = {\n",
        "                                  'bookRating': 'totalRatingCount'\n",
        "                              })[['bookTitle', 'totalRatingCount']]\n",
        "                     \n",
        ")\n",
        "\n",
        "# Check it out:\n",
        "print(book_rating_count.head(10))"
      ],
      "execution_count": 112,
      "outputs": [
        {
          "output_type": "stream",
          "text": [
            "                                           bookTitle  totalRatingCount\n",
            "0   A Light in the Storm: The Civil War Diary of ...                 2\n",
            "1                              Always Have Popsicles                 1\n",
            "2               Apple Magic (The Collector's series)                 1\n",
            "3   Beyond IBM: Leadership Marketing and Finance ...                 1\n",
            "4   Clifford Visita El Hospital (Clifford El Gran...                 1\n",
            "5                                       Dark Justice                 1\n",
            "6                                           Deceived                 1\n",
            "7   Earth Prayers From around the World: 365 Pray...                 3\n",
            "8   Final Fantasy Anthology: Official Strategy Gu...                 3\n",
            "9   Flight of Fancy: American Heiresses (Zebra Ba...                 1\n"
          ],
          "name": "stdout"
        }
      ]
    },
    {
      "cell_type": "markdown",
      "metadata": {
        "id": "LCeSIVxC7FMm"
      },
      "source": [
        "---\n",
        "\n",
        "Now we can combine the ratings data with the total ratings data. This will give us what we need to determine which books are popular, so we can filter out books which aren't know as well."
      ]
    },
    {
      "cell_type": "code",
      "metadata": {
        "colab": {
          "base_uri": "https://localhost:8080/"
        },
        "id": "w3NSJDny7l4r",
        "outputId": "32421a55-49b4-427d-ea26-a7e6f1f22e25"
      },
      "source": [
        "ratings_total_ratings_combo = books_ratings_combo.merge(\n",
        "    book_rating_count,\n",
        "    left_on = 'bookTitle',\n",
        "    right_on = 'bookTitle',\n",
        "    how = 'left'\n",
        ")\n",
        "\n",
        "print(ratings_total_ratings_combo.head())"
      ],
      "execution_count": 113,
      "outputs": [
        {
          "output_type": "stream",
          "text": [
            "   userID        ISBN  bookRating  \\\n",
            "0  277427  002542730X          10   \n",
            "1    3363  002542730X           0   \n",
            "2   11676  002542730X           6   \n",
            "3   12538  002542730X          10   \n",
            "4   13552  002542730X           0   \n",
            "\n",
            "                                           bookTitle  totalRatingCount  \n",
            "0  Politically Correct Bedtime Stories: Modern Ta...                82  \n",
            "1  Politically Correct Bedtime Stories: Modern Ta...                82  \n",
            "2  Politically Correct Bedtime Stories: Modern Ta...                82  \n",
            "3  Politically Correct Bedtime Stories: Modern Ta...                82  \n",
            "4  Politically Correct Bedtime Stories: Modern Ta...                82  \n"
          ],
          "name": "stdout"
        }
      ]
    },
    {
      "cell_type": "code",
      "metadata": {
        "colab": {
          "base_uri": "https://localhost:8080/"
        },
        "id": "kRmqa3lk8ZZ8",
        "outputId": "15361192-cf31-47c5-dfe3-7301b467bb4e"
      },
      "source": [
        "# Customize our floating point numbers:\n",
        "pd.set_option('display.float_format', lambda x: '%.3f' % x)\n",
        "\n",
        "#\n",
        "print(book_rating_count['totalRatingCount'].describe())"
      ],
      "execution_count": 114,
      "outputs": [
        {
          "output_type": "stream",
          "text": [
            "count   160576.000\n",
            "mean         3.044\n",
            "std          7.428\n",
            "min          1.000\n",
            "25%          1.000\n",
            "50%          1.000\n",
            "75%          2.000\n",
            "max        365.000\n",
            "Name: totalRatingCount, dtype: float64\n"
          ],
          "name": "stdout"
        }
      ]
    },
    {
      "cell_type": "code",
      "metadata": {
        "colab": {
          "base_uri": "https://localhost:8080/"
        },
        "id": "cG0VAttpWpmA",
        "outputId": "ea936a35-d22e-4a90-a788-c0516b294f7e"
      },
      "source": [
        "print(\n",
        "    book_rating_count['totalRatingCount'].quantile(\n",
        "      np.arange(0.9, 1, 0.01)\n",
        "))"
      ],
      "execution_count": 115,
      "outputs": [
        {
          "output_type": "stream",
          "text": [
            "0.900    5.000\n",
            "0.910    6.000\n",
            "0.920    7.000\n",
            "0.930    7.000\n",
            "0.940    8.000\n",
            "0.950   10.000\n",
            "0.960   11.000\n",
            "0.970   14.000\n",
            "0.980   19.000\n",
            "0.990   31.000\n",
            "Name: totalRatingCount, dtype: float64\n"
          ],
          "name": "stdout"
        }
      ]
    },
    {
      "cell_type": "code",
      "metadata": {
        "colab": {
          "base_uri": "https://localhost:8080/"
        },
        "id": "ROOssqD1XOMP",
        "outputId": "428385b1-8f97-4494-9c0c-fb669823fac8"
      },
      "source": [
        "popularity_threshold = 50\n",
        "\n",
        "rating_popular_book = ratings_total_ratings_combo.query(\n",
        "    \"totalRatingCount >= @popularity_threshold\"\n",
        ")\n",
        "\n",
        "print(rating_popular_book.head())"
      ],
      "execution_count": 116,
      "outputs": [
        {
          "output_type": "stream",
          "text": [
            "   userID        ISBN  bookRating  \\\n",
            "0  277427  002542730X          10   \n",
            "1    3363  002542730X           0   \n",
            "2   11676  002542730X           6   \n",
            "3   12538  002542730X          10   \n",
            "4   13552  002542730X           0   \n",
            "\n",
            "                                           bookTitle  totalRatingCount  \n",
            "0  Politically Correct Bedtime Stories: Modern Ta...                82  \n",
            "1  Politically Correct Bedtime Stories: Modern Ta...                82  \n",
            "2  Politically Correct Bedtime Stories: Modern Ta...                82  \n",
            "3  Politically Correct Bedtime Stories: Modern Ta...                82  \n",
            "4  Politically Correct Bedtime Stories: Modern Ta...                82  \n"
          ],
          "name": "stdout"
        }
      ]
    },
    {
      "cell_type": "code",
      "metadata": {
        "colab": {
          "base_uri": "https://localhost:8080/"
        },
        "id": "yaJFCWQMX1Wo",
        "outputId": "ed0758f6-91bd-405e-ea8e-751f9fce7db9"
      },
      "source": [
        "combined = rating_popular_book.merge(\n",
        "    user_data,\n",
        "    left_on='userID',\n",
        "    right_on='userID',\n",
        "    how='left'\n",
        ")\n",
        "\n",
        "# Filter to users in United States and Canada only:\n",
        "us_canada_user_ratings = combined[\n",
        "    combined['Location'].str.contains(\"usa|canada\")]\n",
        "\n",
        "us_canada_user_ratings = us_canada_user_ratings.drop('Age', axis=1)\n",
        "\n",
        "print(us_canada_user_ratings.head())"
      ],
      "execution_count": 117,
      "outputs": [
        {
          "output_type": "stream",
          "text": [
            "   userID        ISBN  bookRating  \\\n",
            "0  277427  002542730X          10   \n",
            "1    3363  002542730X           0   \n",
            "3   12538  002542730X          10   \n",
            "4   13552  002542730X           0   \n",
            "5   16795  002542730X           0   \n",
            "\n",
            "                                           bookTitle  totalRatingCount  \\\n",
            "0  Politically Correct Bedtime Stories: Modern Ta...                82   \n",
            "1  Politically Correct Bedtime Stories: Modern Ta...                82   \n",
            "3  Politically Correct Bedtime Stories: Modern Ta...                82   \n",
            "4  Politically Correct Bedtime Stories: Modern Ta...                82   \n",
            "5  Politically Correct Bedtime Stories: Modern Ta...                82   \n",
            "\n",
            "                        Location  \n",
            "0          gilbert, arizona, usa  \n",
            "1      knoxville, tennessee, usa  \n",
            "3          byron, minnesota, usa  \n",
            "4        cordova, tennessee, usa  \n",
            "5  mechanicsville, maryland, usa  \n"
          ],
          "name": "stdout"
        }
      ]
    },
    {
      "cell_type": "markdown",
      "metadata": {
        "id": "SIrp24fBZDJA"
      },
      "source": [
        "---\n",
        "\n",
        "## Implementing kNN\n",
        "\n",
        "Our next step is to convert our table into a two-dimensional matrix. We will fill missing values with zeros, since we're calculating distances between rating vectors.\n",
        "\n",
        "Then we can transform the values, in our case ratings, into a scipy sparse matrix to make our calculations more efficient."
      ]
    },
    {
      "cell_type": "code",
      "metadata": {
        "id": "YeAC8541acFv"
      },
      "source": [
        "from scipy.sparse import csr_matrix\n",
        "\n",
        "\n",
        "us_canada_user_ratings = us_canada_user_ratings.drop_duplicates(\n",
        "    ['userID', 'bookTitle']\n",
        ")\n",
        "\n",
        "us_ca_user_rating_pivot = us_canada_user_ratings.pivot(\n",
        "    index='bookTitle',\n",
        "    columns = 'userID',\n",
        "    values = 'bookRating'\n",
        "\n",
        ").fillna(0)\n",
        "\n",
        "\n",
        "us_ca_user_rating_matix = csr_matrix(us_ca_user_rating_pivot.values)\n"
      ],
      "execution_count": 118,
      "outputs": []
    },
    {
      "cell_type": "markdown",
      "metadata": {
        "id": "n0OfS8AdblOm"
      },
      "source": [
        "---\n",
        "\n",
        "Now we'll use the ratings matrix to fit our data and create our model."
      ]
    },
    {
      "cell_type": "code",
      "metadata": {
        "colab": {
          "base_uri": "https://localhost:8080/"
        },
        "id": "YJihZELybzGN",
        "outputId": "54ef73b2-c675-4853-e7ea-51423b30c48a"
      },
      "source": [
        "from sklearn.neighbors import NearestNeighbors\n",
        "\n",
        "# Define + Instantiate model:\n",
        "knn_model = NearestNeighbors(metric='cosine', algorithm='brute')\n",
        "\n",
        "# Fit data using ratings matrix:\n",
        "knn_model.fit(us_ca_user_rating_matix)\n",
        "\n",
        "# Look at the model properties:\n",
        "print(knn_model)"
      ],
      "execution_count": 119,
      "outputs": [
        {
          "output_type": "stream",
          "text": [
            "NearestNeighbors(algorithm='brute', leaf_size=30, metric='cosine',\n",
            "                 metric_params=None, n_jobs=None, n_neighbors=5, p=2,\n",
            "                 radius=1.0)\n"
          ],
          "name": "stdout"
        }
      ]
    },
    {
      "cell_type": "code",
      "metadata": {
        "colab": {
          "base_uri": "https://localhost:8080/",
          "height": 749
        },
        "id": "92xrqehucbx1",
        "outputId": "f45a4fed-5a13-4b0f-f292-e9f3ab95241e"
      },
      "source": [
        "query_index = np.random.choice(us_ca_user_rating_pivot.shape[0])\n",
        "print(query_index)\n",
        "\n",
        "print(\n",
        "    us_ca_user_rating_pivot.iloc[query_index, : ].values.reshape(1, -1)\n",
        ")\n",
        "\n",
        "distances, indices = knn_model.kneighbors(\n",
        "    us_ca_user_rating_pivot.iloc[query_index, : ].values.reshape(1, -1),\n",
        "    n_neighbors = 6\n",
        ")\n",
        "\n",
        "us_ca_user_rating_pivot.index[query_index]\n"
      ],
      "execution_count": 120,
      "outputs": [
        {
          "output_type": "stream",
          "text": [
            "633\n",
            "[[ 0.  0.  0.  0.  0.  0.  0.  7.  0.  0.  0.  0.  8.  0.  0.  0. 10.  0.\n",
            "   9.  8.  0.  0.  0.  0.  0.  0.  9.  0.  0.  0.  0.  0.  0.  0.  0.  0.\n",
            "   0.  9.  0.  0.  0.  0.  0.  0.  9.  0.  0.  0.  0.  0.  0.  0.  0.  0.\n",
            "   0.  0.  0.  0.  0.  9.  0.  0.  0.  0.  0.  0.  0.  0.  0.  0.  0.  8.\n",
            "   0. 10.  0.  0.  0.  0.  0.  0.  0.  0.  0.  0.  0.  0. 10.  0.  0.  0.\n",
            "   0.  0.  0.  0.  0.  0.  0.  0.  0.  0.  0.  0.  0.  0.  0.  0.  0.  0.\n",
            "   0.  0.  0.  0.  0.  0.  0.  0.  0.  0.  0.  0.  0.  0.  0.  0.  0.  0.\n",
            "   0.  0.  0. 10.  0.  0.  0.  0.  0.  0.  0.  0.  0.  0.  0.  0.  7.  0.\n",
            "   0.  0.  0.  0.  0.  0.  0.  0.  0.  0.  0. 10.  0.  0.  0.  0.  0.  0.\n",
            "   0. 10.  0.  0.  0.  0.  0.  0.  0.  0.  0.  0.  0.  0.  0.  0.  0.  0.\n",
            "   0.  0.  0.  0.  0.  0.  0.  0.  0.  0.  0.  0.  0.  8.  0.  0.  0.  0.\n",
            "   0.  0.  0.  0.  0.  0.  0.  0.  0.  0.  0.  0.  0.  0.  0.  0.  0.  0.\n",
            "   0.  0.  9.  0.  0.  0.  0.  0.  7. 10.  0.  0.  0.  0.  0.  0.  0.  0.\n",
            "   0.  0.  0.  0.  0.  5.  0.  0.  0.  0.  0.  0.  0.  0.  0.  0.  0.  0.\n",
            "   0.  0.  0.  0.  0.  0.  0.  0.  0.  0.  0.  0.  0.  0.  9.  0.  0.  0.\n",
            "   0.  0.  0.  0.  0.  9.  0.  0.  0.  0.  0.  0.  0.  8.  0.  0.  0.  0.\n",
            "   0.  0.  0.  0. 10.  0.  0.  0.  0.  0.  0.  0.  0.  0.  0.  0.  0.  0.\n",
            "   7.  0.  0.  9.  0.  0.  0.  0.  0.  0.  0.  0.  0.  9.  0.  0.  0.  0.\n",
            "   0.  0.  0.  0.  0.  0.  0.  0.  0.  0.  0.  0.  9.  0.  0.  0.  0.  0.\n",
            "   0.  0.  0.  0.  0.  0.  0.  8.  0.  0.  9.  9.  0.  0.  0.  0.  0.  0.\n",
            "   0.  0.  0.  0. 10.  0.  7.  0.  0.  0.  0.  0.  0.  0.  0.  0.  0.  0.\n",
            "   0.  0.  0.  0.  0.  0.  0.  0.  0.  0.  0. 10.  7.  0.  0.  0.  0.  0.\n",
            "   0.  0.  0.  0.  0.  0.  0.  0.  0.  0.  0.  0.  0.  0.  0.  0.  0.  7.\n",
            "   0.  0.  0.  0.  0.  0.  0.  0.  0.  0.  0.  0.  0.  9.  0.  0.  0.  0.\n",
            "   0.  0.  0.  0.  0.  0.  0.  0.  0.  0.  0.  0.  0.  0.  0.  0.  0.  0.\n",
            "   0.  0.  0.  0.  0.  0.  0.  0.  0.  0.  0.  0.  0.  0.  0.  9.  0.  0.\n",
            "   0.  0.  0.  0.  0.  0.  0.  5.  0.  0.  0.  0.  0.  9.  0.  0.  0.  0.\n",
            "   8.  0.  0.  0.  0.  0.  0.  0. 10.  0.  0.  0.  0.  0.  0.  0.  0.  0.\n",
            "   8.  0.  0.  0.  0.  0.  0.  0.  0.  0.  0.  0.  0.  0. 10.  0.  0.  0.\n",
            "   0.  0.  0.  0.  0.  0.  0.  0.  0.  0.  0.  0.  0.  0.  0.  0.  0.  0.\n",
            "   0.  0.  0.  9.  0.  0.  0.  0.  0.  0.  0.  0.  0.  0.  0.  0.  0.  0.\n",
            "   0.  0.  0.  0.  0.  0.  0.  0.  0.  0.  0.  0.  0.  9.  0.  0.  0.  0.\n",
            "   0.  0.  0.  0.  0.  0.  0.  0.  0.  0.  0.  0.  0.  0.  0. 10.  0.  0.\n",
            "   0.  0.  0.  0.  0.  0.  0.  0.  0.  0.  0.  0.  0.  0.  0.  0.  0.  0.\n",
            "   0.  0.  0.  0.  9.  0.  0.  0.  0.  0.  0.  0.  0.  0.  0.  0.  8.  0.\n",
            "   0.  0.  0.  0.  0. 10.  0.  0.  0.  0.  0.  0.  0.  0.  0.  0.  0.  0.\n",
            "   0.  0.  0.  0.  0.  0.  0.  0.  0.  0.  0.  0.  0.  0.  0.  0.  0.  0.\n",
            "   0.  0.  0.  0.  0.  0.  0.  0.  0.  0.  0.  0.  6.  0.  0.  0.  0.  0.\n",
            "   0.  0.  0.  0.  0.  0.  0.  0.  0.  0.  0.  9.  0.  0.  0.  0.  0.  0.\n",
            "   8.  0.  0.  0.  0.  0.  0.  0.  0.  0.  0.  0.  0.  0.  0.  0.  0.  0.\n",
            "  10.  8.  0.  0.  9.  8.  0.  0.  0.  0.  0.  0.  0.  0.]]\n"
          ],
          "name": "stdout"
        },
        {
          "output_type": "execute_result",
          "data": {
            "application/vnd.google.colaboratory.intrinsic+json": {
              "type": "string"
            },
            "text/plain": [
              "'The Red Tent (Bestselling Backlist)'"
            ]
          },
          "metadata": {
            "tags": []
          },
          "execution_count": 120
        }
      ]
    },
    {
      "cell_type": "code",
      "metadata": {
        "colab": {
          "base_uri": "https://localhost:8080/"
        },
        "id": "H97HbhJZdd2K",
        "outputId": "e924b6ed-0c4f-425f-9660-b0856daba32a"
      },
      "source": [
        "for i in range(len(distances.flatten())):\n",
        "  if (i == 0):\n",
        "    print(\"Recommendations for {}:\\n\".format(\n",
        "        us_ca_user_rating_pivot.index[query_index]\n",
        "    ))\n",
        "  \n",
        "  else:\n",
        "    print(\"{i}: {title}, with distance of {dist}\".format(\n",
        "        i=i,\n",
        "        title=us_ca_user_rating_pivot.index[indices.flatten()[i]],\n",
        "        dist=distances.flatten()[i]\n",
        "    ))"
      ],
      "execution_count": 121,
      "outputs": [
        {
          "output_type": "stream",
          "text": [
            "Recommendations for The Red Tent (Bestselling Backlist):\n",
            "\n",
            "1: Girl with a Pearl Earring, with distance of 0.6784425030365467\n",
            "2: The Reader, with distance of 0.7320545897328294\n",
            "3: The Clan of the Cave Bear (Earth's Children (Paperback)), with distance of 0.75050688528971\n",
            "4: The Bonesetter's Daughter, with distance of 0.7525742456087645\n",
            "5: Divine Secrets of the Ya-Ya Sisterhood: A Novel, with distance of 0.7570153145315475\n"
          ],
          "name": "stdout"
        }
      ]
    },
    {
      "cell_type": "markdown",
      "metadata": {
        "id": "LYn-bhf8fuo_"
      },
      "source": [
        "---\n",
        "*Special thanks to AMAN KHARWAL for the project idea and guide.*"
      ]
    }
  ]
}